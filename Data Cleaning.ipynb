{
 "cells": [
  {
   "cell_type": "code",
   "execution_count": 1,
   "id": "f57107aa",
   "metadata": {},
   "outputs": [
    {
     "name": "stdout",
     "output_type": "stream",
     "text": [
      "Requirement already satisfied: pyodbc in c:\\users\\anjal\\anaconda3\\lib\\site-packages (5.0.1)\n",
      "Requirement already satisfied: pandas in c:\\users\\anjal\\anaconda3\\lib\\site-packages (2.1.4)\n",
      "Requirement already satisfied: sqlalchemy in c:\\users\\anjal\\anaconda3\\lib\\site-packages (2.0.25)\n",
      "Requirement already satisfied: numpy<2,>=1.23.2 in c:\\users\\anjal\\anaconda3\\lib\\site-packages (from pandas) (1.26.4)\n",
      "Requirement already satisfied: python-dateutil>=2.8.2 in c:\\users\\anjal\\anaconda3\\lib\\site-packages (from pandas) (2.8.2)\n",
      "Requirement already satisfied: pytz>=2020.1 in c:\\users\\anjal\\anaconda3\\lib\\site-packages (from pandas) (2023.3.post1)\n",
      "Requirement already satisfied: tzdata>=2022.1 in c:\\users\\anjal\\anaconda3\\lib\\site-packages (from pandas) (2023.3)\n",
      "Requirement already satisfied: typing-extensions>=4.6.0 in c:\\users\\anjal\\anaconda3\\lib\\site-packages (from sqlalchemy) (4.9.0)\n",
      "Requirement already satisfied: greenlet!=0.4.17 in c:\\users\\anjal\\anaconda3\\lib\\site-packages (from sqlalchemy) (3.0.1)\n",
      "Requirement already satisfied: six>=1.5 in c:\\users\\anjal\\anaconda3\\lib\\site-packages (from python-dateutil>=2.8.2->pandas) (1.16.0)\n"
     ]
    }
   ],
   "source": [
    "!pip install pyodbc pandas sqlalchemy"
   ]
  },
  {
   "cell_type": "code",
   "execution_count": 2,
   "id": "094417d8",
   "metadata": {},
   "outputs": [],
   "source": [
    "import pyodbc\n",
    "import pandas as pd\n",
    "from sqlalchemy import create_engine, text"
   ]
  },
  {
   "cell_type": "code",
   "execution_count": 3,
   "id": "583e4c29",
   "metadata": {},
   "outputs": [],
   "source": [
    "server = 'ANJALI\\SQLEXPRESS22'  # e.g., 'localhost\\SQLEXPRESS' or 'YourServerName'\n",
    "database = 'Walmart'\n",
    "# username = 'YourUsername'  # If using SQL Server Authentication\n",
    "# password = 'YourPassword'  # If using SQL Server Authentication\n",
    "driver = '{ODBC Driver 17 for SQL Server}' # Or '{SQL Server}' or '{SQL Server Native Client 11.0}'"
   ]
  },
  {
   "cell_type": "code",
   "execution_count": 4,
   "id": "b9d1ddb1",
   "metadata": {},
   "outputs": [],
   "source": [
    "    connection_string = (\n",
    "        f\"DRIVER={driver};\"\n",
    "        f\"SERVER={server};\"\n",
    "        f\"DATABASE={database};\"\n",
    "        f\"Trusted_Connection=yes;\"\n",
    "    )"
   ]
  },
  {
   "cell_type": "code",
   "execution_count": 27,
   "id": "a471bf58",
   "metadata": {},
   "outputs": [
    {
     "name": "stdout",
     "output_type": "stream",
     "text": [
      "Connection successful!\n"
     ]
    }
   ],
   "source": [
    "    try:\n",
    "        cnxn = pyodbc.connect(connection_string)\n",
    "        cursor = cnxn.cursor()\n",
    "        print(\"Connection successful!\")\n",
    "    except pyodbc.Error as ex:\n",
    "        sqlstate = ex.args[0]\n",
    "        print(f\"Error connecting to SQL Server: {sqlstate}\")"
   ]
  },
  {
   "cell_type": "code",
   "execution_count": 24,
   "id": "a1a54767",
   "metadata": {},
   "outputs": [
    {
     "name": "stdout",
     "output_type": "stream",
     "text": [
      "('00012a2ce6f8dcda20d059ce98491703', '248ffe10d632bebe4f7267f1f44844c9', 6273, 'osasco                                                                                              ', 'SP   ')\n",
      "('000161a058600d5901f007fab4c27140', 'b0015e09bb4b6e47c52844fab5fb6638', 35550, 'itapecerica                                                                                         ', 'MG   ')\n",
      "('0001fd6190edaaf884bcaf3d49edf079', '94b11d37cd61cb2994a194d11f89682b', 29830, 'nova venecia                                                                                        ', 'ES   ')\n",
      "('0002414f95344307404f0ace7a26f1d5', '4893ad4ea28b2c5b3ddf4e82e79db9e6', 39664, 'mendonca                                                                                            ', 'MG   ')\n",
      "('000379cdec625522490c315e70c7a9fb', '0b83f73b19c2019e182fd552c048a22c', 4841, 'sao paulo                                                                                           ', 'SP   ')\n",
      "('0004164d20a9e969af783496f3408652', '104bdb7e6a6cdceaa88c3ea5fa6b2b93', 13272, 'valinhos                                                                                            ', 'SP   ')\n",
      "('000419c5494106c306a97b5635748086', '14843983d4a159080f6afe4b7f346e7c', 24220, 'niteroi                                                                                             ', 'RJ   ')\n",
      "('00046a560d407e99b969756e0b10f282', '0b5295fc9819d831f68eb0e9a3e13ab7', 20540, 'rio de janeiro                                                                                      ', 'RJ   ')\n",
      "('00050bf6e01e69d5c0fd612f1bcfb69c', 'e3cf594a99e810f58af53ed4820f25e5', 98700, 'ijui                                                                                                ', 'RS   ')\n",
      "('000598caf2ef4117407665ac33275130', '7e0516b486e92ed3f3afdd6d1276cfbd', 35540, 'oliveira                                                                                            ', 'MG   ')\n",
      "Connection closed.\n"
     ]
    }
   ],
   "source": [
    "    try:\n",
    "        query = \"SELECT TOP 10 * FROM Customers;\" # Replace YourTable with your table name\n",
    "        cursor.execute(query)\n",
    "        rows = cursor.fetchall()\n",
    "        for row in rows:\n",
    "            print(row)\n",
    "    except pyodbc.Error as ex:\n",
    "        sqlstate = ex.args[0]\n",
    "        print(f\"Error executing query: {sqlstate}\")\n",
    "    finally:\n",
    "        if 'cnxn' in locals() and cnxn:\n",
    "            cnxn.close()\n",
    "            print(\"Connection closed.\")"
   ]
  },
  {
   "cell_type": "code",
   "execution_count": 28,
   "id": "80ce21ab",
   "metadata": {},
   "outputs": [
    {
     "name": "stderr",
     "output_type": "stream",
     "text": [
      "C:\\Users\\anjal\\AppData\\Local\\Temp\\ipykernel_22684\\1176961082.py:3: UserWarning: pandas only supports SQLAlchemy connectable (engine/connection) or database string URI or sqlite3 DBAPI2 connection. Other DBAPI2 objects are not tested. Please consider using SQLAlchemy.\n",
      "  df = pd.read_sql(query, cnxn)\n"
     ]
    },
    {
     "name": "stdout",
     "output_type": "stream",
     "text": [
      "Data loaded successfully into DataFrame.\n",
      "                            customer_id                customer_unique_id  \\\n",
      "0      00012a2ce6f8dcda20d059ce98491703  248ffe10d632bebe4f7267f1f44844c9   \n",
      "1      000161a058600d5901f007fab4c27140  b0015e09bb4b6e47c52844fab5fb6638   \n",
      "2      0001fd6190edaaf884bcaf3d49edf079  94b11d37cd61cb2994a194d11f89682b   \n",
      "3      0002414f95344307404f0ace7a26f1d5  4893ad4ea28b2c5b3ddf4e82e79db9e6   \n",
      "4      000379cdec625522490c315e70c7a9fb  0b83f73b19c2019e182fd552c048a22c   \n",
      "...                                 ...                               ...   \n",
      "99436  fffecc9f79fd8c764f843e9951b11341  e5794df8573fa179a90a7b797fc4b71f   \n",
      "99437  fffeda5b6d849fbd39689bb92087f431  afbb5a642107cf6bb1ca68e863175f03   \n",
      "99438  ffff42319e9b2d713724ae527742af25  680213db6ebd9e4f24d03280cbe10346   \n",
      "99439  ffffa3172527f765de70084a7e53aae8  48fd7dec70f2b104a1d5e8c5c639102b   \n",
      "99440  ffffe8b65bbe3087b653a978c870db99  736e6bfa0510aa5b878881a226a5fd89   \n",
      "\n",
      "       customer_zip_code_prefix  \\\n",
      "0                          6273   \n",
      "1                         35550   \n",
      "2                         29830   \n",
      "3                         39664   \n",
      "4                          4841   \n",
      "...                         ...   \n",
      "99436                     95630   \n",
      "99437                     22461   \n",
      "99438                      6754   \n",
      "99439                     37130   \n",
      "99440                      6172   \n",
      "\n",
      "                                           customer_city customer_state  \n",
      "0      osasco                                        ...          SP     \n",
      "1      itapecerica                                   ...          MG     \n",
      "2      nova venecia                                  ...          ES     \n",
      "3      mendonca                                      ...          MG     \n",
      "4      sao paulo                                     ...          SP     \n",
      "...                                                  ...            ...  \n",
      "99436  parobe                                        ...          RS     \n",
      "99437  rio de janeiro                                ...          RJ     \n",
      "99438  taboao da serra                               ...          SP     \n",
      "99439  alfenas                                       ...          MG     \n",
      "99440  osasco                                        ...          SP     \n",
      "\n",
      "[99441 rows x 5 columns]\n"
     ]
    }
   ],
   "source": [
    "    try:\n",
    "        query = \"SELECT * FROM Customers;\"\n",
    "        df = pd.read_sql(query, cnxn)\n",
    "        cnxn.close()\n",
    "        print(\"Data loaded successfully into DataFrame.\")\n",
    "        print(df)\n",
    "    except pyodbc.Error as ex:\n",
    "        sqlstate = ex.args[0]\n",
    "        print(f\"Error connecting to SQL Server or loading data: {sqlstate}\")"
   ]
  },
  {
   "cell_type": "code",
   "execution_count": 34,
   "id": "cee21464",
   "metadata": {},
   "outputs": [
    {
     "name": "stdout",
     "output_type": "stream",
     "text": [
      "\n",
      "Processing table: Customers\n",
      "Cleaned rows: 99441\n",
      "✅ Customers overwritten in database with cleaned data.\n",
      "\n",
      "Processing table: Geolocations\n",
      "Cleaned rows: 19015\n",
      "✅ Geolocations overwritten in database with cleaned data.\n",
      "\n",
      "Processing table: Orders\n",
      "Cleaned rows: 99441\n",
      "✅ Orders overwritten in database with cleaned data.\n",
      "\n",
      "Processing table: Products\n",
      "Cleaned rows: 32951\n",
      "✅ Products overwritten in database with cleaned data.\n",
      "\n",
      "Processing table: Walmart_Trustpilot_Reviews\n",
      "Cleaned rows: 3671\n",
      "✅ Walmart_Trustpilot_Reviews overwritten in database with cleaned data.\n",
      "\n",
      "Processing table: Sellers\n",
      "Cleaned rows: 3095\n",
      "✅ Sellers overwritten in database with cleaned data.\n",
      "\n",
      "Processing table: Payments\n",
      "Cleaned rows: 103886\n",
      "✅ Payments overwritten in database with cleaned data.\n",
      "\n",
      "Processing table: Order_items\n",
      "Cleaned rows: 112650\n",
      "✅ Order_items overwritten in database with cleaned data.\n"
     ]
    },
    {
     "data": {
      "text/plain": [
       "'\\n# Create SQLAlchemy engine\\nengine = create_engine(engine_str)\\n\\n# SQL query to execute\\nquery = \"SELECT * FROM Customers\"\\n\\n# Load result into DataFrame\\ndf = pd.read_sql(query, engine)\\n\\n# Display the DataFrame\\nprint(df)\\n'"
      ]
     },
     "execution_count": 34,
     "metadata": {},
     "output_type": "execute_result"
    }
   ],
   "source": [
    "from sqlalchemy import create_engine\n",
    "import pandas as pd\n",
    "\n",
    "# Define your server and database names\n",
    "server = 'ANJALI\\SQLEXPRESS22'  # or 'YOUR_SERVER\\\\SQLEXPRESS'\n",
    "database = 'Walmart'\n",
    "\n",
    "# Create connection string using trusted connection\n",
    "engine_str = f\"mssql+pyodbc://@{server}/{database}?driver=ODBC+Driver+17+for+SQL+Server&trusted_connection=yes\"\n",
    "\n",
    "# Create SQLAlchemy engine\n",
    "engine = create_engine(engine_str)\n",
    "\n",
    "# Step 2: List of table names\n",
    "table_names = [\n",
    "    'Customers', 'Geolocations', 'Orders', 'Products',\n",
    "    'Walmart_Trustpilot_Reviews', 'Sellers', 'Payments', 'Order_items'\n",
    "]\n",
    "\n",
    "# Step 3: Define a function for basic cleaning\n",
    "def clean_dataframe(df):\n",
    "    df_columns = [col.strip().lower().replace(\" \", \"_\") for col in df.columns]  # Standardize column names\n",
    "    df_duplicates = df.drop_duplicates()  # Remove duplicate rows\n",
    "    df_cleaned = df.dropna()  # Remove rows with any null values\n",
    "    return df\n",
    "\n",
    "# Step 4: Load, clean, and overwrite each table\n",
    "for table in table_names:\n",
    "    try:\n",
    "        print(f\"\\nProcessing table: {table}\")\n",
    "        df = pd.read_sql(f\"SELECT * FROM {table}\", engine)\n",
    "        df_clean = clean_dataframe(df)\n",
    "        print(f\"Cleaned rows: {len(df_clean)}\")\n",
    "\n",
    "        # Overwrite the original table with cleaned data\n",
    "        df_clean.to_sql(name=f\"Cleaned_{table}\", con=engine, index=False, if_exists='replace')\n",
    "        print(f\"✅ {table} overwritten in database with cleaned data.\")\n",
    "\n",
    "    except Exception as e:\n",
    "        print(f\"❌ Error processing {table}: {e}\")\n",
    "    \n",
    "'''\n",
    "# SQL query to execute\n",
    "query = \"SELECT * FROM Customers\"\n",
    "\n",
    "# Load result into DataFrame\n",
    "df = pd.read_sql(query, engine)\n",
    "\n",
    "# Display the DataFrame\n",
    "print(df)\n",
    "'''"
   ]
  },
  {
   "cell_type": "code",
   "execution_count": null,
   "id": "7e59936b",
   "metadata": {},
   "outputs": [],
   "source": []
  }
 ],
 "metadata": {
  "kernelspec": {
   "display_name": "Python 3 (ipykernel)",
   "language": "python",
   "name": "python3"
  },
  "language_info": {
   "codemirror_mode": {
    "name": "ipython",
    "version": 3
   },
   "file_extension": ".py",
   "mimetype": "text/x-python",
   "name": "python",
   "nbconvert_exporter": "python",
   "pygments_lexer": "ipython3",
   "version": "3.11.7"
  }
 },
 "nbformat": 4,
 "nbformat_minor": 5
}
